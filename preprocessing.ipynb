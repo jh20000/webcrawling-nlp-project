{
 "cells": [
  {
   "cell_type": "code",
   "execution_count": null,
   "metadata": {},
   "outputs": [],
   "source": [
    "from kiwipiepy import Kiwi\n",
    "from kiwipiepy.utils import Stopwords\n",
    "import re\n",
    "import copy\n",
    "import pandas as pd\n",
    "\n",
    "kiwi = Kiwi(typos='basic')"
   ]
  },
  {
   "cell_type": "code",
   "execution_count": null,
   "metadata": {},
   "outputs": [],
   "source": [
    "query = '목사' # 분석 대상 키워드\n",
    "df = pd.read_csv(f'API블로그{query}.csv')  # 그 키워드에 해당하는 csv 불러오기 (블로그)\n",
    "#df = pd.read_csv(f'Selenium_news{query}.csv') (뉴스)\n",
    "df = df.dropna(subset=['content'],ignore_index=True) # 본문(content) 스크래핑 결과가 Nan인 값을 제거"
   ]
  },
  {
   "cell_type": "code",
   "execution_count": null,
   "metadata": {},
   "outputs": [],
   "source": [
    "# 각 종교별 키워드를 리스트에 담아서 불용어 처리에 사용 (스크래핑 검색 단어가 많이 추출되는 거는 당연해서 분석의미가 없음)\n",
    "# 블로그 글 특성상 자주 나오지만 분석에 도움되지 않는 단어도 리스트로 담아 저장 (모델 수행 결과를 바탕으로 경험적으로 추가)\n",
    "gidok_stop = ['기독교','교회','하나님','개신교','목사','예수']\n",
    "chunju_stop = ['천주교','수녀님','성당','하느님','신부님','교황']\n",
    "bul_stop = ['불교','부처님','절','스님','승려','보살']\n",
    "blog_stop = ['이웃','본문','추가','복사','기타','분','곳','번']"
   ]
  },
  {
   "cell_type": "code",
   "execution_count": null,
   "metadata": {},
   "outputs": [],
   "source": [
    "stopwords = Stopwords()\n",
    "stops = gidok_stop + blog_stop # 분석 대상의 불용어와 블로그 공통 불용어를 불용어리스트에 추가\n",
    "for i in stops:\n",
    "    stopwords.add((i,'NNG'))\n",
    "    stopwords.add((i,'NNP'))"
   ]
  },
  {
   "cell_type": "code",
   "execution_count": null,
   "metadata": {},
   "outputs": [],
   "source": [
    "def preprocess_korean(text, analyzer=kiwi, stopwords=stopwords):\n",
    "    my_text = str(copy.copy(text))\n",
    "    my_text = my_text.replace('\\n', ' ') # 줄바꿈 문자 제거\n",
    "    my_text = kiwi.space(my_text) # 띄어쓰기 교정\n",
    "    sents = kiwi.split_into_sents(my_text) # 문장 토큰화\n",
    "    p = re.compile('[^ㄱ-ㅎㅏ-ㅣ가-힣 ]')\n",
    "    all_result = []\n",
    "    for sent in sents:\n",
    "        token_result = kiwi.tokenize(sent.text, stopwords=stopwords) # 단어 토큰화 및 불용어 제거\n",
    "        tmp = []\n",
    "        for i in token_result:\n",
    "            if i.tag in ['NNG','NNP']: # 보통명사와 고유명사만 추출\n",
    "                tmp.append(i)\n",
    "        token_result = kiwi.join(tmp) # 다시 문장으로 결합\n",
    "        token_result = p.sub(' ', token_result) # 정규표현식 사용해 한글만 남김\n",
    "        all_result.append(token_result) # 전체 문장들을 리스트에 저장\n",
    "    \n",
    "    all_result = ' '.join(all_result) # 전체 문장을 문자열에 연결해 본문 내의 모든 단어들이 하나의 문자열이 되게 설정\n",
    "\n",
    "    return all_result"
   ]
  },
  {
   "cell_type": "code",
   "execution_count": null,
   "metadata": {},
   "outputs": [],
   "source": [
    "df['pre_content'] = df['content'].apply(lambda x: preprocess_korean(x)) # 전처리기 적용"
   ]
  },
  {
   "cell_type": "code",
   "execution_count": null,
   "metadata": {},
   "outputs": [],
   "source": [
    "df.to_csv(f'pre_{query}.csv', index=False)  # 전처리된 결과를 담은 csv 저장"
   ]
  },
  {
   "cell_type": "code",
   "execution_count": null,
   "metadata": {},
   "outputs": [],
   "source": []
  }
 ],
 "metadata": {
  "kernelspec": {
   "display_name": "Python 3 (ipykernel)",
   "language": "python",
   "name": "python3"
  },
  "language_info": {
   "codemirror_mode": {
    "name": "ipython",
    "version": 3
   },
   "file_extension": ".py",
   "mimetype": "text/x-python",
   "name": "python",
   "nbconvert_exporter": "python",
   "pygments_lexer": "ipython3",
   "version": "3.12.4"
  }
 },
 "nbformat": 4,
 "nbformat_minor": 4
}
