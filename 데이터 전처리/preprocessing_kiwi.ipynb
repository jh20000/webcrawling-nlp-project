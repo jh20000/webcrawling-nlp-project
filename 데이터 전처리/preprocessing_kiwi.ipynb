{
 "cells": [
  {
   "cell_type": "code",
   "execution_count": 9,
   "metadata": {},
   "outputs": [],
   "source": [
    "import pandas as pd\n",
    "from kiwipiepy import Kiwi\n",
    "import re\n",
    "import copy\n",
    "\n",
    "\n",
    "# 필요한 객체 및 변수 정의\n",
    "kiwi = Kiwi(typos='basic')"
   ]
  },
  {
   "cell_type": "code",
   "execution_count": 10,
   "metadata": {},
   "outputs": [],
   "source": [
    "query = '기독교' # 분석 대상 키워드\n",
    "df = pd.read_csv(f'./news_pre/Selenium_news_{query}.csv') #(뉴스)\n",
    "df = df.dropna(subset=['content'],ignore_index=True) # 본문(content) 스크래핑 결과가 Nan인 값을 제거"
   ]
  },
  {
   "cell_type": "code",
   "execution_count": 11,
   "metadata": {},
   "outputs": [],
   "source": [
    "# 각 종교별 키워드를 리스트에 담아서 불용어 처리에 사용 (스크래핑 검색 단어가 많이 추출되는 거는 당연해서 분석의미가 없음)\n",
    "# 블로그 글 특성상 자주 나오지만 분석에 도움되지 않는 단어도 리스트로 담아 저장 (모델 수행 결과를 바탕으로 경험적으로 추가)\n",
    "gidok_stop = ['기독교','교회','하나님','개신교','목사','예수']\n",
    "chunju_stop = ['천주교','수녀님','성당','하느님','신부님','교황']\n",
    "bul_stop = ['불교','부처님','절','스님','승려','보살']\n",
    "blog_stop = ['이웃','본문','추가','복사','기타','분','곳','번']"
   ]
  },
  {
   "cell_type": "code",
   "execution_count": 12,
   "metadata": {},
   "outputs": [],
   "source": [
    "from kiwipiepy.utils import Stopwords # kiwi에서 제공하는 Stopword list\n",
    "stopwords = Stopwords()\n",
    "\n",
    "# 기본 불용어 리스트 로드\n",
    "\n",
    "\n",
    "# 기본 불용어 + 사용자 불용어 통합\n",
    "default_stopwords = stopwords.stopwords\n",
    "stopwords = set(default_stopwords)  # 기본 불용어를 set으로 변환\n",
    "custom_stopwords = set(gidok_stop + chunju_stop + bul_stop + blog_stop)\n",
    "\n",
    "stopwords.update((word, 'NNG') for word in custom_stopwords)  # 사용자 불용어 추가 (보통명사)\n",
    "stopwords.update((word, 'NNP') for word in custom_stopwords)  # 사용자 불용어 추가 (고유명사)"
   ]
  },
  {
   "cell_type": "code",
   "execution_count": 13,
   "metadata": {},
   "outputs": [
    {
     "data": {
      "text/plain": [
       "{('ᆫ', 'ETM'),\n",
       " ('ᆫ', 'JX'),\n",
       " ('ᆫ다', 'EF'),\n",
       " ('ᆯ', 'ETM'),\n",
       " ('가', 'JKS'),\n",
       " ('같', 'VA'),\n",
       " ('개신교', 'NNG'),\n",
       " ('개신교', 'NNP'),\n",
       " ('것', 'NNB'),\n",
       " ('게', 'EC'),\n",
       " ('겠', 'EP'),\n",
       " ('고', 'EC'),\n",
       " ('고', 'JKQ'),\n",
       " ('곳', 'NNG'),\n",
       " ('곳', 'NNP'),\n",
       " ('과', 'JC'),\n",
       " ('과', 'JKB'),\n",
       " ('교황', 'NNG'),\n",
       " ('교황', 'NNP'),\n",
       " ('교회', 'NNG'),\n",
       " ('교회', 'NNP'),\n",
       " ('그', 'MM'),\n",
       " ('그', 'NP'),\n",
       " ('기', 'ETN'),\n",
       " ('기독교', 'NNG'),\n",
       " ('기독교', 'NNP'),\n",
       " ('기타', 'NNG'),\n",
       " ('기타', 'NNP'),\n",
       " ('까지', 'JX'),\n",
       " ('나', 'NP'),\n",
       " ('년', 'NNB'),\n",
       " ('는', 'ETM'),\n",
       " ('는', 'JX'),\n",
       " ('다', 'EC'),\n",
       " ('다', 'EF'),\n",
       " ('다고', 'EC'),\n",
       " ('다는', 'ETM'),\n",
       " ('대하', 'VV'),\n",
       " ('더', 'MAG'),\n",
       " ('던', 'ETM'),\n",
       " ('도', 'JX'),\n",
       " ('되', 'VV'),\n",
       " ('되', 'XSV'),\n",
       " ('들', 'XSN'),\n",
       " ('등', 'NNB'),\n",
       " ('따르', 'VV'),\n",
       " ('때', 'NNG'),\n",
       " ('때문', 'NNB'),\n",
       " ('라', 'EC'),\n",
       " ('라는', 'ETM'),\n",
       " ('로', 'JKB'),\n",
       " ('를', 'JKO'),\n",
       " ('만', 'JX'),\n",
       " ('만', 'NR'),\n",
       " ('말', 'NNG'),\n",
       " ('며', 'EC'),\n",
       " ('면', 'EC'),\n",
       " ('면서', 'EC'),\n",
       " ('명', 'NNB'),\n",
       " ('목사', 'NNG'),\n",
       " ('목사', 'NNP'),\n",
       " ('받', 'VV'),\n",
       " ('번', 'NNG'),\n",
       " ('번', 'NNP'),\n",
       " ('보', 'VV'),\n",
       " ('보살', 'NNG'),\n",
       " ('보살', 'NNP'),\n",
       " ('복사', 'NNG'),\n",
       " ('복사', 'NNP'),\n",
       " ('본문', 'NNG'),\n",
       " ('본문', 'NNP'),\n",
       " ('부처님', 'NNG'),\n",
       " ('부처님', 'NNP'),\n",
       " ('부터', 'JX'),\n",
       " ('분', 'NNG'),\n",
       " ('분', 'NNP'),\n",
       " ('불교', 'NNG'),\n",
       " ('불교', 'NNP'),\n",
       " ('사람', 'NNG'),\n",
       " ('성', 'XSN'),\n",
       " ('성당', 'NNG'),\n",
       " ('성당', 'NNP'),\n",
       " ('수', 'NNB'),\n",
       " ('수녀님', 'NNG'),\n",
       " ('수녀님', 'NNP'),\n",
       " ('스님', 'NNG'),\n",
       " ('스님', 'NNP'),\n",
       " ('승려', 'NNG'),\n",
       " ('승려', 'NNP'),\n",
       " ('신부님', 'NNG'),\n",
       " ('신부님', 'NNP'),\n",
       " ('아니', 'VCN'),\n",
       " ('않', 'VX'),\n",
       " ('어', 'EC'),\n",
       " ('어', 'EF'),\n",
       " ('어서', 'EC'),\n",
       " ('어야', 'EC'),\n",
       " ('없', 'VA'),\n",
       " ('었', 'EP'),\n",
       " ('에', 'JKB'),\n",
       " ('에게', 'JKB'),\n",
       " ('에서', 'JKB'),\n",
       " ('예수', 'NNG'),\n",
       " ('예수', 'NNP'),\n",
       " ('와', 'JC'),\n",
       " ('와', 'JKB'),\n",
       " ('우리', 'NP'),\n",
       " ('원', 'NNB'),\n",
       " ('월', 'NNB'),\n",
       " ('위하', 'VV'),\n",
       " ('으로', 'JKB'),\n",
       " ('은', 'ETM'),\n",
       " ('은', 'JX'),\n",
       " ('을', 'ETM'),\n",
       " ('을', 'JKO'),\n",
       " ('의', 'JKG'),\n",
       " ('이', 'JKC'),\n",
       " ('이', 'JKS'),\n",
       " ('이', 'MM'),\n",
       " ('이', 'NP'),\n",
       " ('이', 'VCP'),\n",
       " ('이웃', 'NNG'),\n",
       " ('이웃', 'NNP'),\n",
       " ('일', 'NNB'),\n",
       " ('일', 'NNG'),\n",
       " ('있', 'VV'),\n",
       " ('있', 'VX'),\n",
       " ('적', 'XSN'),\n",
       " ('절', 'NNG'),\n",
       " ('절', 'NNP'),\n",
       " ('제', 'XPN'),\n",
       " ('주', 'VX'),\n",
       " ('중', 'NNB'),\n",
       " ('지', 'EC'),\n",
       " ('지', 'VX'),\n",
       " ('지만', 'EC'),\n",
       " ('지역', 'NNG'),\n",
       " ('천주교', 'NNG'),\n",
       " ('천주교', 'NNP'),\n",
       " ('추가', 'NNG'),\n",
       " ('추가', 'NNP'),\n",
       " ('통하', 'VV'),\n",
       " ('하', 'VV'),\n",
       " ('하', 'VX'),\n",
       " ('하', 'XSA'),\n",
       " ('하', 'XSV'),\n",
       " ('하나님', 'NNG'),\n",
       " ('하나님', 'NNP'),\n",
       " ('하느님', 'NNG'),\n",
       " ('하느님', 'NNP'),\n",
       " ('한', 'MM'),\n",
       " ('화', 'XSN')}"
      ]
     },
     "execution_count": 13,
     "metadata": {},
     "output_type": "execute_result"
    }
   ],
   "source": [
    "stopwords"
   ]
  },
  {
   "cell_type": "code",
   "execution_count": 14,
   "metadata": {},
   "outputs": [],
   "source": [
    "# 기본 불용어 + 사용자 불용어 통합\n",
    "stopwords = set((word, 'NNG') for word in default_stopwords)  # (단어, 품사) 형태로 변환\n",
    "stopwords.update((word, 'NNG') for word in custom_stopwords)  # 사용자 불용어 추가\n",
    "stopwords.update((word, 'NNP') for word in custom_stopwords)  # 고유명사(NNP)도 추가"
   ]
  },
  {
   "cell_type": "code",
   "execution_count": 15,
   "metadata": {},
   "outputs": [],
   "source": [
    "def preprocess_korean(text, analyzer=kiwi, stopwords=stopwords, return_list=False):\n",
    "    my_text = str(copy.copy(text)).replace('\\n', ' ')  # 개행 제거\n",
    "    my_text = analyzer.space(my_text)  # 띄어쓰기 교정\n",
    "\n",
    "    # Tokenizer\n",
    "    sents = analyzer.split_into_sents(my_text)\n",
    "    p = re.compile('[^ㄱ-ㅎㅏ-ㅣ가-힣 ]')  # 한글만 남기는 정규식\n",
    "    all_result = []\n",
    "\n",
    "    for sent in sents:\n",
    "        token_result = analyzer.tokenize(sent.text)\n",
    "        tmp = []  # \n",
    "        for token in token_result:\n",
    "            # 명사(NNG, NNP)만 추출 & 불용어 제거\n",
    "            if (token.form, token.tag) not in stopwords and token.tag in ['NNG', 'NNP']:\n",
    "                tmp.append(token.form)\n",
    "\n",
    "        token_result = ' '.join(tmp)\n",
    "        token_result = p.sub(' ', token_result)  # 한글 이외 문자 제거\n",
    "        all_result.append(token_result)\n",
    "\n",
    "    return all_result if return_list else ' '.join(all_result)  # 리스트로 반환 옵션 추가\n"
   ]
  },
  {
   "cell_type": "code",
   "execution_count": 19,
   "metadata": {},
   "outputs": [],
   "source": [
    "df1 = df.head(1)"
   ]
  },
  {
   "cell_type": "code",
   "execution_count": 20,
   "metadata": {},
   "outputs": [
    {
     "name": "stderr",
     "output_type": "stream",
     "text": [
      "C:\\Users\\wngud\\AppData\\Local\\Temp\\ipykernel_1396\\2455809945.py:1: SettingWithCopyWarning: \n",
      "A value is trying to be set on a copy of a slice from a DataFrame.\n",
      "Try using .loc[row_indexer,col_indexer] = value instead\n",
      "\n",
      "See the caveats in the documentation: https://pandas.pydata.org/pandas-docs/stable/user_guide/indexing.html#returning-a-view-versus-a-copy\n",
      "  df1['pre_content'] = df1['content'].apply(lambda x: preprocess_korean(x)) # 전처리기 적용\n"
     ]
    }
   ],
   "source": [
    "df1['pre_content'] = df1['content'].apply(lambda x: preprocess_korean(x)) # 전처리기 적용"
   ]
  },
  {
   "cell_type": "code",
   "execution_count": null,
   "metadata": {},
   "outputs": [],
   "source": [
    "#df['pre_content'] = df['content'].apply(lambda x: preprocess_korean(x)) # 전처리기 적용"
   ]
  },
  {
   "cell_type": "code",
   "execution_count": 21,
   "metadata": {},
   "outputs": [],
   "source": [
    "a = df1['content'][0]\n",
    "b = df1['pre_content'][0]"
   ]
  },
  {
   "cell_type": "code",
   "execution_count": 22,
   "metadata": {},
   "outputs": [
    {
     "data": {
      "text/plain": [
       "'밀양농아인교회 내달 30일까지2024 십자가 전시회판매 수익금 장애인 선교에 사용밀양농아인교회(천형기 목사)는 지난 14일부터 경남 밀양시 단장면 상봉1길 70 교회에서 ‘2024 십자가 전시회’를 개최하고 있다. (사진)지난해에 이어 열리는 이 전시회의 주제는 ‘그리스도의 십자가’(갈 6:14)이다.농인 최호식 목사, 장기현 집사 등 작가 10여명이 제작한 다양한 십자가와 성서 유물을 전시한다.3개의 대형 십자가 묵상, 십자가 자기 체험을 하고 기념품을 증정한다.전시회는 다음 달 30일까지다. 관람시간은 평일 토요일 오전 10시~오후 5시, 주일 오후 2~5시이다.천형기 밀양농아인교회 목사는 초청의 글에서 “십자가와 부활은 기독교 신앙에서 가장 중요한 핵심”이라며 “그러나 점점 십자가에 대한 의미를 잃어버리고 살 때가 많다. 사순절 기간 예수 십자가의 고난과 의미를 되새기며 다시 십자가를 새롭게 바라보길 바란다”고 밝혔다.천 목사는 “어려운 조건에서 십자가를 만드는 농인들을 계속 알리고 조금이나마 도움이 되었으면 하는 바람”이라고 말했다.행사는 밀양시민교회(나철수 목사), 마산봉덕교회(강정식 목사) 등이 협력하고 있다.판매 수익금은 장애인 선교를 위해 사용한다.'"
      ]
     },
     "execution_count": 22,
     "metadata": {},
     "output_type": "execute_result"
    }
   ],
   "source": [
    "a"
   ]
  },
  {
   "cell_type": "code",
   "execution_count": 23,
   "metadata": {},
   "outputs": [
    {
     "data": {
      "text/plain": [
       "'밀양 농아 내달 십자가 전시회 판매 수익금 장애인 선교 사용 밀양 농아 천 형기 경남 밀양시 단장면 상봉 길 십자가 전시회 개최 사진 지난해 전시회 주제 그리스도 십자가 갈 농 최호식 장기현 집사 작가 제작 다양 십자가 성서 유물 전시 대형 십자가 묵상 십자가 자기 체험 기념품 증정 전시회 다음 달 관람 시간 평일 토요일 오전 오후 주일 오후 천 형기 밀양 농아 초청 글 십자가 부활 신앙 중요 핵심 십자가 의미 때 사순절 기간 십자가 고난 의미 십자가 천 조건 십자가 농 조금 도움 바람 말 행사 밀양 시민 나 철수 마산봉덕교회 강 정식 협력 판매 수익금 장애인 선교 사용'"
      ]
     },
     "execution_count": 23,
     "metadata": {},
     "output_type": "execute_result"
    }
   ],
   "source": [
    "b"
   ]
  },
  {
   "cell_type": "code",
   "execution_count": 24,
   "metadata": {},
   "outputs": [],
   "source": [
    "df.to_csv(f'../wordcloud/preprocessed_{query}.csv', index=False)  # 전처리된 결과를 담은 csv 저장"
   ]
  },
  {
   "cell_type": "code",
   "execution_count": null,
   "metadata": {},
   "outputs": [],
   "source": []
  }
 ],
 "metadata": {
  "kernelspec": {
   "display_name": "kiwi_env",
   "language": "python",
   "name": "python3"
  },
  "language_info": {
   "codemirror_mode": {
    "name": "ipython",
    "version": 3
   },
   "file_extension": ".py",
   "mimetype": "text/x-python",
   "name": "python",
   "nbconvert_exporter": "python",
   "pygments_lexer": "ipython3",
   "version": "3.9.21"
  }
 },
 "nbformat": 4,
 "nbformat_minor": 4
}
